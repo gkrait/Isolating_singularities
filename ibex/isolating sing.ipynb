{
 "cells": [
  {
   "cell_type": "markdown",
   "metadata": {},
   "source": [
    "# Isolating_singularities\n",
    "This module contains the implementation of the algorithms \n",
    "introduced in [HAL](https://hal.archives-ouvertes.fr/hal-02612412). It basically concerns isolating the singularities of the  plane   projection of a generic curve embedded in $\\mathbb{R}^n$.\n",
    "## Main functions\n",
    "In the following, by an interval we mean a list $[a,b]$ of floats $a,b$ that represent the lower and upper bounds respectively.By a box we mean a list of intervals. \n",
    "### enclosing\\_boxes(system , Box , X , eps=0.1)\n",
    "This function returns a list of two lists: The first one is a list of boxes in $\\mathbb{R}^n$ that cover a smooth part of the curve (more precisely, where the used solver [IbexSolve](http://www.ibex-lib.org/doc/solver.html) success to certify the smoothness). The second one contains boxes where the used solver ([IbexSolve](http://www.ibex-lib.org/doc/solver.html)) fails to certify the smoothness of the curve.\n",
    "####  Parameters\n",
    "##### system\n",
    " A string that is the name of the txt file containing the equations that define the curve.\n",
    "####  Box\n",
    "A box that contains the curve \n",
    "### X\n",
    "A list of the sympy symbols that appear in the equations of system.\n",
    "### eps\n",
    "The maximal width of the output boxes. \n",
    "\n",
    "###  Example "
   ]
  },
  {
   "cell_type": "code",
   "execution_count": 8,
   "metadata": {},
   "outputs": [
    {
     "name": "stdout",
     "output_type": "stream",
     "text": [
      "177\n",
      "0\n"
     ]
    }
   ],
   "source": [
    "import Isolating_singularities as isos\n",
    "import sympy as sp\n",
    "from  pprint import pprint  \n",
    "##################################\n",
    "#Creating the system file #######\n",
    "##################################\n",
    "#The user can creat the txt file manualy where every\n",
    "#line represents an equation that defines the curve. \n",
    "#However, the following code is to creat the system file.\n",
    "\n",
    "\"\"\"fil=open(\"system.txt\",\"w\")\n",
    "fil.write(\"(x1 - 8*cos(x3))^2 + (x2 - 8*sin(x3) )^2 - 23 \\n\")\n",
    "fil.write(\"(x1 - 9 - 5* cos(x4) )^2 + (x2 - 5* sin(x4))^2 - 60 \\n\")\n",
    "fil.write( \"(2*x1 - 16*cos(x3))*(2*x2 - 10*sin(x4)) - (2*x2 - 16*sin(x3))*(2*x1 - 10*cos(x4) - 18)\")\n",
    "fil.close()\"\"\"\n",
    "##################################\n",
    "#Declaring parameters #######\n",
    "##################################\n",
    "System=\"system.txt\"\n",
    "Box=[[-5,15],[-15,15],[-3.14,3.14],[-3.14,3.14]] \n",
    "Box=[[-0.1,3.1],[0.1,5.1],[-1.6,1.6]] \n",
    "X=[sp.Symbol(\"x\"+str(i)) for i in range(1,4)]\n",
    "\n",
    "##################################\n",
    "#Applying the function #######\n",
    "##################################\n",
    "boxes =isos.enclosing_boxes(System,Box,X)\t\t\n",
    "print(len(boxes[0])) #the number of certified boxes\n",
    "print(len(boxes[1])) #the number of unknown boxes"
   ]
  },
  {
   "cell_type": "markdown",
   "metadata": {},
   "source": [
    "#\n",
    "###  ploting_boxes(certified_boxes, uncer_boxes, var=[0,1], B=[ [-20,20] , [-20,20] ], a=1, b=10, nodes= [], cusps=[ ] )\n",
    "\n",
    "This function plots a plane projection of $enclosing_boxes$ output. \n",
    "####  Parameters \n",
    "##### certified_boxes \n",
    "A list of boxes that cover a smooth part of the curve certified by [IbexSolve](http://www.ibex-lib.org/doc/solver.html). The function plots the plane projection of this list in green.\n",
    "##### uncer_boxes\n",
    "A list of boxes that cover the part of the curve where [IbexSolve](http://www.ibex-lib.org/doc/solver.html) fails to certify the smoothness. The function plots the plane projection of this list in red.\n",
    "##### var (optional)\n",
    "A list of two integers that determines the variables for which the plane projection is considered.By default, the function considers the first two variables.\n",
    "##### B (optional)\n",
    "Determines the domain of the graph. By defult, it is set to be $[-20,20]^2$.\n",
    "##### nodes (optional)\n",
    "A set of boxes each of which contains a node (to be computed later)\n",
    "##### cusps (optional)\n",
    "A set of boxes each of which contains a cusp (to be computed later)\n",
    "###  Example "
   ]
  },
  {
   "cell_type": "code",
   "execution_count": 9,
   "metadata": {},
   "outputs": [
    {
     "data": {
      "image/png": "[encoded data removed]",
      "text/plain": [
       "<Figure size 432x288 with 1 Axes>"
      ]
     },
     "metadata": {
      "needs_background": "light"
     },
     "output_type": "display_data"
    }
   ],
   "source": [
    "isos.ploting_boxes(boxes[0],boxes[1],B=[[-0.1,3.1],[0.1,5.1]])\n",
    "# boxes if the output of enclosing_boxes "
   ]
  },
  {
   "cell_type": "code",
   "execution_count": 3,
   "metadata": {},
   "outputs": [
    {
     "ename": "IndexError",
     "evalue": "list index out of range",
     "output_type": "error",
     "traceback": [
      "\u001b[0;31m---------------------------------------------------------------------------\u001b[0m",
      "\u001b[0;31mIndexError\u001b[0m                                Traceback (most recent call last)",
      "\u001b[0;32m<ipython-input-3-c472d19cbfe0>\u001b[0m in \u001b[0;36m<module>\u001b[0;34m\u001b[0m\n\u001b[1;32m      1\u001b[0m isos.ploting_boxes(boxes[0],boxes[1],B=[[-3.14,3.14],[-3.14,3.14]]\\\n\u001b[0;32m----> 2\u001b[0;31m                    ,var=[2,3]) \n\u001b[0m",
      "\u001b[0;32m~/Documents/Isolating_singularities.py\u001b[0m in \u001b[0;36mploting_boxes\u001b[0;34m(boxes, uncer_boxes, var, B, a, b, nodes, cusps, color)\u001b[0m\n\u001b[1;32m    463\u001b[0m    \u001b[0mplt\u001b[0m\u001b[0;34m.\u001b[0m\u001b[0mlegend\u001b[0m\u001b[0;34m(\u001b[0m\u001b[0mhandles\u001b[0m\u001b[0;34m=\u001b[0m\u001b[0;34m[\u001b[0m\u001b[0mgreen_patch\u001b[0m\u001b[0;34m,\u001b[0m\u001b[0mred_patch\u001b[0m\u001b[0;34m]\u001b[0m\u001b[0;34m)\u001b[0m\u001b[0;34m\u001b[0m\u001b[0;34m\u001b[0m\u001b[0m\n\u001b[1;32m    464\u001b[0m    \u001b[0;32mfor\u001b[0m \u001b[0mbox\u001b[0m \u001b[0;32min\u001b[0m \u001b[0mboxes\u001b[0m\u001b[0;34m:\u001b[0m\u001b[0;34m\u001b[0m\u001b[0;34m\u001b[0m\u001b[0m\n\u001b[0;32m--> 465\u001b[0;31m      rectangle= plt.Rectangle((box[var[0]][0],box[var[1]][0]) , \\\n\u001b[0m\u001b[1;32m    466\u001b[0m     \ta*(box[var[0]][1]-box[var[0]][0]),a*(box[var[1]][1]-box[var[1]][0]), fc=color)\n\u001b[1;32m    467\u001b[0m      \u001b[0mplt\u001b[0m\u001b[0;34m.\u001b[0m\u001b[0mgca\u001b[0m\u001b[0;34m(\u001b[0m\u001b[0;34m)\u001b[0m\u001b[0;34m.\u001b[0m\u001b[0madd_patch\u001b[0m\u001b[0;34m(\u001b[0m\u001b[0mrectangle\u001b[0m\u001b[0;34m)\u001b[0m\u001b[0;34m\u001b[0m\u001b[0;34m\u001b[0m\u001b[0m\n",
      "\u001b[0;31mIndexError\u001b[0m: list index out of range"
     ]
    },
    {
     "data": {
      "image/png": "[encoded data removed]",
      "text/plain": [
       "<Figure size 432x288 with 1 Axes>"
      ]
     },
     "metadata": {
      "needs_background": "light"
     },
     "output_type": "display_data"
    }
   ],
   "source": [
    "isos.ploting_boxes(boxes[0],boxes[1],B=[[-3.14,3.14],[-3.14,3.14]]\\\n",
    "                   ,var=[2,3]) "
   ]
  },
  {
   "cell_type": "markdown",
   "metadata": {},
   "source": [
    "### enclosing_singularities (System, boxes , Box , X, eps=0.1)\n",
    "This function returns a set of two sets. The first one contains 2d boxes each of which contains exactly one node of the plane projection (with respect to the first two variables).\n",
    "The second one is a list of boxes such that every box contains either one ordinary cusp or a node that is a projection of two branches closed to each other. \n",
    "####  Parameters  \n",
    "**System,  Box, X** and  **eps** are as in  $enclosing\\_boxes$.\n",
    "**boxes** is the output of $enclosing\\_boxes$.\n",
    "####  Example\n",
    " In the following, $nodes$ contains boxes each of which has a solution of Ball with $t \\neq 0$. $nodes\\_or\\_cusps$  contains boxes each of which has a solution of Ball with $t = 0$."
   ]
  },
  {
   "cell_type": "code",
   "execution_count": 11,
   "metadata": {},
   "outputs": [
    {
     "name": "stdout",
     "output_type": "stream",
     "text": [
      "[]\n"
     ]
    }
   ],
   "source": [
    "\n",
    "nodes, nodes_or_cusps=isos.enclosing_singularities(System,boxes,Box,X)\n",
    "\n",
    "#plotting the singularities\n",
    "#isos.ploting_boxes(boxes[0],boxes[1],B=[[-0.1,3.1],[-0.1,5.1]]\\\n",
    "#                   ,nodes=nodes, cusps=nodes_or_cusps)\n",
    "\n",
    "print(nodes_or_cusps)"
   ]
  },
  {
   "cell_type": "markdown",
   "metadata": {},
   "source": []
  },
  {
   "cell_type": "markdown",
   "metadata": {},
   "source": []
  },
  {
   "cell_type": "code",
   "execution_count": null,
   "metadata": {},
   "outputs": [],
   "source": []
  },
  {
   "cell_type": "code",
   "execution_count": null,
   "metadata": {},
   "outputs": [],
   "source": []
  }
 ],
 "metadata": {
  "kernelspec": {
   "display_name": "Python 3",
   "language": "python",
   "name": "python3"
  },
  "language_info": {
   "codemirror_mode": {
    "name": "ipython",
    "version": 3
   },
   "file_extension": ".py",
   "mimetype": "text/x-python",
   "name": "python",
   "nbconvert_exporter": "python",
   "pygments_lexer": "ipython3",
   "version": "3.7.6"
  }
 },
 "nbformat": 4,
 "nbformat_minor": 4
}
